{
 "cells": [
  {
   "cell_type": "code",
   "execution_count": 1,
   "id": "c684c9a9-88a0-4282-b2f7-5832e8581cc8",
   "metadata": {},
   "outputs": [],
   "source": [
    "import torch\n",
    "import torch.nn as nn\n",
    "\n",
    "import numpy as np \n",
    "import matplotlib.pyplot as plt\n",
    "\n",
    "from Bio import SeqIO\n",
    "from Bio.Seq import Seq\n",
    "from Bio.SeqRecord import SeqRecord\n",
    "from Bio.Alphabet import SingleLetterAlphabet\n",
    "\n",
    "from transformers import AutoTokenizer, AutoModel, EsmForProteinFolding\n",
    "\n",
    "import os\n",
    "import copy\n",
    "from tqdm import tqdm\n",
    "\n",
    "from linear_quant import *"
   ]
  },
  {
   "cell_type": "code",
   "execution_count": 2,
   "id": "fd8427c5-ef3b-4c71-8623-9c6ab4d6d06a",
   "metadata": {},
   "outputs": [
    {
     "name": "stderr",
     "output_type": "stream",
     "text": [
      "Some weights of EsmForProteinFolding were not initialized from the model checkpoint at facebook/esmfold_v1 and are newly initialized: ['esm.contact_head.regression.bias', 'esm.contact_head.regression.weight']\n",
      "You should probably TRAIN this model on a down-stream task to be able to use it for predictions and inference.\n"
     ]
    }
   ],
   "source": [
    "tokenizer = AutoTokenizer.from_pretrained(\"facebook/esmfold_v1\")\n",
    "model = EsmForProteinFolding.from_pretrained(\"facebook/esmfold_v1\", low_cpu_mem_usage=False)\n",
    "\n",
    "model = model.cpu()"
   ]
  },
  {
   "cell_type": "code",
   "execution_count": 3,
   "id": "f24558f5-0817-4e89-966e-929c19b2a808",
   "metadata": {},
   "outputs": [],
   "source": [
    "model = quant_model_acts(model, 0, True, exclude_part=[\"base_model\"])\n",
    "model = model.cuda(\"cuda:2\")"
   ]
  },
  {
   "cell_type": "code",
   "execution_count": 4,
   "id": "841fa602-ba2a-4761-9db1-4960485f3949",
   "metadata": {},
   "outputs": [
    {
     "name": "stdout",
     "output_type": "stream",
     "text": [
      "50\n"
     ]
    }
   ],
   "source": [
    "seq_fasta = list(SeqIO.parse(\"../data/casp14.fasta\", \"fasta\"))\n",
    "\n",
    "seq_list = [seq.seq.__str__() for seq in seq_fasta][:50]\n",
    "key_list = [seq.id.__str__().split(\"_\")[0] for seq in seq_fasta][:50]\n",
    "print(len(seq_list))"
   ]
  },
  {
   "cell_type": "code",
   "execution_count": 5,
   "id": "28063f8a-e5b7-4f2e-985b-db260aa3727c",
   "metadata": {},
   "outputs": [],
   "source": [
    "tokenizer = AutoTokenizer.from_pretrained(\"facebook/esmfold_v1\")\n",
    "ecoli_tokenized = tokenizer(seq_list, padding=False, add_special_tokens=False)['input_ids']"
   ]
  },
  {
   "cell_type": "code",
   "execution_count": 6,
   "id": "f11f7116-f3e3-4a7a-94ab-1543a869660f",
   "metadata": {},
   "outputs": [
    {
     "name": "stderr",
     "output_type": "stream",
     "text": [
      "100%|██████████| 50/50 [18:19<00:00, 21.98s/it]\n"
     ]
    }
   ],
   "source": [
    "outputs = []\n",
    "\n",
    "with torch.no_grad():\n",
    "    for input_ids in tqdm(ecoli_tokenized):\n",
    "        input_ids = torch.tensor(input_ids, device='cuda:2').unsqueeze(0)\n",
    "        output = model(input_ids)\n",
    "        outputs.append({key: val.cpu() for key, val in output.items()})\n",
    "\n",
    "os.makedirs('../output/stats/', exist_ok=True)\n",
    "act_stats_save_path = '../output/stats/act_stats_full_pre_50.pth'\n",
    "act_dict = save_model_act_stats(model, act_stats_save_path)"
   ]
  },
  {
   "cell_type": "code",
   "execution_count": 7,
   "id": "79672a0e-6c3a-4201-bd65-729a0283228d",
   "metadata": {},
   "outputs": [
    {
     "name": "stderr",
     "output_type": "stream",
     "text": [
      "Some weights of EsmForProteinFolding were not initialized from the model checkpoint at facebook/esmfold_v1 and are newly initialized: ['esm.contact_head.regression.bias', 'esm.contact_head.regression.weight']\n",
      "You should probably TRAIN this model on a down-stream task to be able to use it for predictions and inference.\n"
     ]
    }
   ],
   "source": [
    "new_model = EsmForProteinFolding.from_pretrained(\"facebook/esmfold_v1\", low_cpu_mem_usage=False)\n",
    "new_model = new_model.cpu()\n",
    "# new_model = quant_model_acts(new_model, 8, False, exclude_part=[\"base_model\"], cali_batch_size=50)\n",
    "new_model = quant_model_acts(new_model, 8, False, exclude_part=[\"base_model\"], cali_batch_size=50, quant_scheme=\"pwlq-3\")"
   ]
  },
  {
   "cell_type": "code",
   "execution_count": 8,
   "id": "0c041918-4a0f-44ff-a1b6-e7f8ba73166b",
   "metadata": {},
   "outputs": [],
   "source": [
    "mode = load_model_act_stats(new_model, act_stats_save_path, act_clip_method=\"top_2\")\n",
    "# mode = load_model_act_stats(new_model, act_stats_save_path, act_clip_method=\"clip_0.999\")"
   ]
  },
  {
   "cell_type": "code",
   "execution_count": 9,
   "id": "46c1aff3-7e6b-4dcd-98cc-164939c78244",
   "metadata": {},
   "outputs": [],
   "source": [
    "torch.save(new_model, \"../output/quant_acts/quant_act_8b_full.pt\")"
   ]
  },
  {
   "cell_type": "code",
   "execution_count": null,
   "id": "2ad50af7-6ae6-4cb2-b5ca-fe6606e93127",
   "metadata": {},
   "outputs": [],
   "source": []
  },
  {
   "cell_type": "code",
   "execution_count": 4,
   "id": "977c34b8-7488-4882-b8b0-31ba11f6cdb4",
   "metadata": {},
   "outputs": [],
   "source": [
    "# act_stats_save_path = 'stats/act_stats_50_layernorm.pth'\n",
    "# acts_dict = torch.load(act_stats_save_path)\n",
    "# # acts_dict[\"esm.encoder.layer.0.attention.self.query.0.minv\"].size()\n",
    "\n",
    "# for key in acts_dict.keys():\n",
    "#     if key.endswith(\"maxv\"):\n",
    "#         stats = acts_dict[key]\n",
    "#         stats = stats[:, -5:]\n",
    "#         values, indices = torch.median(stats, 1)\n",
    "#         if torch.mean(values).item() <= 0:\n",
    "#             print(key)\n",
    "#             print(torch.mean(values).item())\n",
    "#             print()\n",
    "#     if key.endswith(\"minv\"):\n",
    "#         stats = acts_dict[key]\n",
    "#         stats = stats[:, :5]\n",
    "#         values, indices = torch.median(stats, 1)\n",
    "#         if torch.mean(values).item() >= 0:\n",
    "#             print(key)\n",
    "#             print(torch.mean(values).item())\n",
    "#             print()"
   ]
  },
  {
   "cell_type": "code",
   "execution_count": 1,
   "id": "294afd9c-e896-4acf-a3bc-5a32371d791a",
   "metadata": {},
   "outputs": [
    {
     "name": "stderr",
     "output_type": "stream",
     "text": [
      "100%|██████████| 139/139 [1:50:13<00:00, 47.58s/it]\n"
     ]
    }
   ],
   "source": [
    "import torch\n",
    "import torch.nn as nn\n",
    "\n",
    "import numpy as np \n",
    "import matplotlib.pyplot as plt\n",
    "\n",
    "from Bio import SeqIO\n",
    "from Bio.Seq import Seq\n",
    "from Bio.SeqRecord import SeqRecord\n",
    "from Bio.Alphabet import SingleLetterAlphabet\n",
    "\n",
    "from transformers import AutoTokenizer, AutoModel, EsmForProteinFolding\n",
    "\n",
    "import os\n",
    "import copy\n",
    "from tqdm import tqdm\n",
    "\n",
    "from linear_quant import *\n",
    "\n",
    "model = torch.load(\"../output/quant_acts/quant_act_8b_full.pt\")\n",
    "model.cuda(\"cuda:2\")\n",
    "\n",
    "seq_fasta = list(SeqIO.parse(\"../data/sequences_cameo.fasta\", \"fasta\"))\n",
    "\n",
    "seq_list = [seq.seq.__str__() for seq in seq_fasta]\n",
    "key_list = [seq.id.__str__().split(\"_\")[0] for seq in seq_fasta]\n",
    "\n",
    "tokenizer = AutoTokenizer.from_pretrained(\"facebook/esmfold_v1\")\n",
    "ecoli_tokenized = tokenizer(seq_list, padding=False, add_special_tokens=False)['input_ids']\n",
    "\n",
    "outputs = []\n",
    "\n",
    "with torch.no_grad():\n",
    "    for input_ids in tqdm(ecoli_tokenized):\n",
    "        input_ids = torch.tensor(input_ids, device='cuda:2').unsqueeze(0)\n",
    "        output = model(input_ids)\n",
    "        outputs.append({key: val.cpu() for key, val in output.items()})"
   ]
  },
  {
   "cell_type": "code",
   "execution_count": 2,
   "id": "37d6fe07-12af-4536-94f5-344e310278b4",
   "metadata": {},
   "outputs": [],
   "source": [
    "pdb_list = [convert_outputs_to_pdb(output) for output in outputs]\n",
    "for identifier, pdb in zip(key_list, pdb_list):\n",
    "    with open(f\"../output/pred_quant_act_pdb_v3/{identifier}.pdb\", \"w\") as f:\n",
    "        f.write(\"\".join(pdb))"
   ]
  },
  {
   "cell_type": "code",
   "execution_count": 3,
   "id": "acd8f245-fbd1-41fa-8326-120ef82b41f4",
   "metadata": {},
   "outputs": [
    {
     "name": "stderr",
     "output_type": "stream",
     "text": [
      "139it [01:33,  1.49it/s]"
     ]
    },
    {
     "name": "stdout",
     "output_type": "stream",
     "text": [
      "111.15189999999997/139\n",
      "0.7996539568345321\n"
     ]
    },
    {
     "name": "stderr",
     "output_type": "stream",
     "text": [
      "\n"
     ]
    }
   ],
   "source": [
    "### import os\n",
    "from TMscore import TMscore\n",
    "from tqdm import tqdm\n",
    "\n",
    "\n",
    "real_pdbs = os.listdir(\"../data/cameo_real_pdb\")\n",
    "pred_quant_pdbs = os.listdir(\"../output/pred_quant_act_pdb_v3\")\n",
    "\n",
    "tmscore = TMscore(\"TMscore\")\n",
    "\n",
    "tmscore_list = []\n",
    "lddt_list = []\n",
    "for a, b in tqdm(zip(real_pdbs, pred_quant_pdbs)):\n",
    "    tmscore(os.path.join(\"../data/cameo_real_pdb\", a), os.path.join(\"../output/pred_quant_act_pdb_v3\", b))\n",
    "    score = tmscore.get_tm_score()\n",
    "    if score is not None:\n",
    "        tmscore_list.append(tmscore.get_tm_score())\n",
    "\n",
    "tmscore_pred = sum(tmscore_list) / len(tmscore_list)   \n",
    "print(\"{}/{}\".format(sum(tmscore_list), len(tmscore_list)))\n",
    "print(tmscore_pred)\n",
    "\n",
    "# 0.7945769784172667 173 top100 norm"
   ]
  },
  {
   "cell_type": "code",
   "execution_count": 4,
   "id": "a7c4c116-68bf-4c00-96f5-94f28cfc6503",
   "metadata": {},
   "outputs": [],
   "source": [
    "# 0.7495877697841726 50 top_20 act_stats_50_layernorm\n",
    "\n",
    "# 0.6797410071942447 cali_batch_size=173 top_1 act_stats_173 8 bits\n",
    "# 0.7993798561151076 cali_batch_size=173 top_1 act_stats_173 16 bits\n",
    "\n",
    "# 0.6850496402877699 cali_batch_size=50 top_1 act_stats_50 8 bits\n",
    "# 0.8006000000000004 cali_batch_size=50 top_1 act_stats_50 16 bits\n",
    "\n",
    "#  cali_batch_size=173 top_1 act_stats_173_layernorm 8 bits\n",
    "#  cali_batch_size=173 top_1 act_stats_173_layernorm 16 bits\n",
    "\n",
    "# 0.6850496402877699 cali_batch_size=50 top_1 act_stats_50_layernorm 8 bits\n",
    "# 0.7993237410071943 cali_batch_size=50 top_1 act_stats_50_layernorm 16 bits"
   ]
  },
  {
   "cell_type": "code",
   "execution_count": 5,
   "id": "ec5f96ee-aa0a-481e-843a-d93cf690caba",
   "metadata": {},
   "outputs": [],
   "source": [
    "# Origin\n",
    "# TM-Score：0.80085\n",
    "\n",
    "# 量化类型 in [nn.Linear, nn.Softmax, nn.functional.softmax, nn.Sigmoid(), nn.ReLU(), EsmFoldLinear, LayerNorm]\n",
    "# TM-Score：0.7417683453237413 # 全量化\n",
    "# TM-Score：0.7871827338129491 # 只量化encoder\n",
    "# TM-Score：0.7672676258992803 # 只量化trunk\n",
    "\n",
    "# 量化类型 in [nn.Linear, nn.Softmax, nn.functional.softmax, nn.Sigmoid(), nn.ReLU(), EsmFoldLinear]\n",
    "# TM-Score：0.7969366906474817 # 全量化\n",
    "# TM-Score：0.7984546762589924 # 只量化encoder\n",
    "# TM-Score：0.8017553956834531 # 只量化trunk\n",
    "\n",
    "# 量化类型 in [nn.Linear, nn.Sigmoid(), nn.ReLU(), EsmFoldLinear, LayerNorm]:\n",
    "# TM-Score：0.7426244604316544 # 全量化\n",
    "# TM-Score：0.7871827338129491 # 只量化encoder\n",
    "# TM-Score：0.764428057553957  # 只量化trunk\n",
    "\n",
    "# 量化类型 in [nn.Softmax, nn.functional.softmax]:\n",
    "# TM-Score：0.8004014388489211 # 全量化\n",
    "# TM-Score：0.8006791366906475 # 只量化encoder\n",
    "# TM-Score：0.8004014388489211 # 只量化trunk\n",
    "\n",
    "# 量化类型 in [LayerNorm]\n",
    "# TM-Score：0.7312964028776979 # 全量化\n",
    "# TM-Score：0.7850712230215826 # 只量化encoder\n",
    "# TM-Score：0.7639489208633091 # 只量化trunk\n",
    "\n",
    "# 量化类型 in [nn.Linear, EsmFoldLinear]\n",
    "# TM-Score：0.7980323741007195 # 全量化\n",
    "# TM-Score：0.7984546762589924 # 只量化encoder\n",
    "# TM-Score：0.8011856115107912 # 只量化trunk\n"
   ]
  }
 ],
 "metadata": {
  "kernelspec": {
   "display_name": "Python 3 (ipykernel)",
   "language": "python",
   "name": "python3"
  },
  "language_info": {
   "codemirror_mode": {
    "name": "ipython",
    "version": 3
   },
   "file_extension": ".py",
   "mimetype": "text/x-python",
   "name": "python",
   "nbconvert_exporter": "python",
   "pygments_lexer": "ipython3",
   "version": "3.8.15"
  }
 },
 "nbformat": 4,
 "nbformat_minor": 5
}
