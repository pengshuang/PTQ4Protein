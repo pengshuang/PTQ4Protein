{
 "cells": [
  {
   "cell_type": "code",
   "execution_count": 1,
   "id": "70a51b8a-155c-408f-afbf-0ffc5c0b5e6f",
   "metadata": {},
   "outputs": [
    {
     "name": "stderr",
     "output_type": "stream",
     "text": [
      "2023-03-30 16:26:54.761038: I tensorflow/core/platform/cpu_feature_guard.cc:193] This TensorFlow binary is optimized with oneAPI Deep Neural Network Library (oneDNN) to use the following CPU instructions in performance-critical operations:  AVX2 AVX512F AVX512_VNNI FMA\n",
      "To enable them in other operations, rebuild TensorFlow with the appropriate compiler flags.\n",
      "2023-03-30 16:26:54.881856: I tensorflow/core/util/port.cc:104] oneDNN custom operations are on. You may see slightly different numerical results due to floating-point round-off errors from different computation orders. To turn them off, set the environment variable `TF_ENABLE_ONEDNN_OPTS=0`.\n",
      "2023-03-30 16:26:55.429870: W tensorflow/compiler/xla/stream_executor/platform/default/dso_loader.cc:64] Could not load dynamic library 'libnvinfer.so.7'; dlerror: libnvinfer.so.7: cannot open shared object file: No such file or directory; LD_LIBRARY_PATH: /usr/local/nvidia/lib:/usr/local/nvidia/lib64\n",
      "2023-03-30 16:26:55.429936: W tensorflow/compiler/xla/stream_executor/platform/default/dso_loader.cc:64] Could not load dynamic library 'libnvinfer_plugin.so.7'; dlerror: libnvinfer_plugin.so.7: cannot open shared object file: No such file or directory; LD_LIBRARY_PATH: /usr/local/nvidia/lib:/usr/local/nvidia/lib64\n",
      "2023-03-30 16:26:55.429944: W tensorflow/compiler/tf2tensorrt/utils/py_utils.cc:38] TF-TRT Warning: Cannot dlopen some TensorRT libraries. If you would like to use Nvidia GPU with TensorRT, please make sure the missing libraries mentioned above are installed properly.\n"
     ]
    }
   ],
   "source": [
    "import torch\n",
    "import torch.nn as nn\n",
    "\n",
    "import numpy as np \n",
    "import matplotlib.pyplot as plt\n",
    "\n",
    "from Bio import SeqIO\n",
    "from Bio.Seq import Seq\n",
    "from Bio.SeqRecord import SeqRecord\n",
    "from Bio.Alphabet import SingleLetterAlphabet\n",
    "\n",
    "from transformers import AutoTokenizer, AutoModel, EsmForProteinFolding\n",
    "\n",
    "import os\n",
    "import copy\n",
    "from tqdm import tqdm\n",
    "\n",
    "from linear_quant import *"
   ]
  },
  {
   "cell_type": "code",
   "execution_count": 2,
   "id": "1cc466aa-b575-4223-8833-00e660d9dd0b",
   "metadata": {},
   "outputs": [
    {
     "name": "stderr",
     "output_type": "stream",
     "text": [
      "Some weights of EsmForProteinFolding were not initialized from the model checkpoint at facebook/esmfold_v1 and are newly initialized: ['esm.contact_head.regression.bias', 'esm.contact_head.regression.weight']\n",
      "You should probably TRAIN this model on a down-stream task to be able to use it for predictions and inference.\n"
     ]
    }
   ],
   "source": [
    "tokenizer = AutoTokenizer.from_pretrained(\"facebook/esmfold_v1\")\n",
    "model = EsmForProteinFolding.from_pretrained(\"facebook/esmfold_v1\", low_cpu_mem_usage=True)\n",
    "\n",
    "model = model.cpu()"
   ]
  },
  {
   "cell_type": "code",
   "execution_count": 3,
   "id": "85e84b02-a3dd-4f37-b6c2-4a11bf2bdeb6",
   "metadata": {},
   "outputs": [],
   "source": [
    "model.esm = model.esm.float()\n",
    "quantized_model = torch.quantization.quantize_dynamic(\n",
    "    model, {torch.nn.Linear}, dtype=torch.qint8\n",
    ")"
   ]
  },
  {
   "cell_type": "code",
   "execution_count": 4,
   "id": "8993cde2-4d26-44b3-80dd-437d882b8443",
   "metadata": {},
   "outputs": [],
   "source": [
    "device = torch.device('cpu')\n",
    "quantized_model = quantized_model.to(device)"
   ]
  },
  {
   "cell_type": "code",
   "execution_count": 5,
   "id": "0c767357-f259-4ee7-9533-19bc14688fdf",
   "metadata": {},
   "outputs": [],
   "source": [
    "seq_fasta = list(SeqIO.parse(\"../data/sequences_cameo.fasta\", \"fasta\"))"
   ]
  },
  {
   "cell_type": "code",
   "execution_count": 6,
   "id": "f1851ad7-88f8-4712-bc64-53abb7fbb173",
   "metadata": {},
   "outputs": [],
   "source": [
    "seq_list = [seq.seq.__str__() for seq in seq_fasta]\n",
    "key_list = [seq.id.__str__().split(\"_\")[0] for seq in seq_fasta]\n",
    "\n",
    "ecoli_tokenized = tokenizer(seq_list, padding=False, add_special_tokens=False)['input_ids']"
   ]
  },
  {
   "cell_type": "code",
   "execution_count": 7,
   "id": "e4da156b-fd42-4799-8e68-c965867ce2cd",
   "metadata": {},
   "outputs": [
    {
     "name": "stderr",
     "output_type": "stream",
     "text": [
      "100%|██████████| 139/139 [10:25:35<00:00, 270.04s/it]  \n"
     ]
    }
   ],
   "source": [
    "from tqdm import tqdm\n",
    "\n",
    "outputs = []\n",
    "\n",
    "with torch.no_grad():\n",
    "    for input_ids in tqdm(ecoli_tokenized):\n",
    "        input_ids = torch.tensor(input_ids, device='cpu').unsqueeze(0)\n",
    "        output = quantized_model(input_ids)\n",
    "        outputs.append({key: val.cpu() for key, val in output.items()})\n",
    "        \n",
    "pdb_list = [convert_outputs_to_pdb(output) for output in outputs]\n",
    "for identifier, pdb in zip(key_list, pdb_list):\n",
    "    with open(f\"../output/pred_origin_quant_pdb/{identifier}.pdb\", \"w\") as f:\n",
    "        f.write(\"\".join(pdb))"
   ]
  },
  {
   "cell_type": "code",
   "execution_count": 8,
   "id": "61198e35-be53-4a88-a124-208851eab7d1",
   "metadata": {},
   "outputs": [
    {
     "name": "stdout",
     "output_type": "stream",
     "text": [
      "139\n",
      "139\n"
     ]
    }
   ],
   "source": [
    "import os\n",
    "\n",
    "real_pdbs = os.listdir(\"real_pdb\")\n",
    "pred_pdbs = os.listdir(\"pred_quant_pdb\")\n",
    "print(len(real_pdbs))\n",
    "print(len(pred_pdbs))"
   ]
  },
  {
   "cell_type": "code",
   "execution_count": 12,
   "id": "1be88984-dc61-4b52-96aa-d67fc77f8eea",
   "metadata": {},
   "outputs": [
    {
     "name": "stdout",
     "output_type": "stream",
     "text": [
      "7VNA.pdb 0.9134\n",
      "7TCR.pdb 0.2635\n",
      "7QRY.pdb 0.8576\n",
      "7N3T.pdb 0.7266\n",
      "7MKU.pdb 0.8882\n",
      "7OB6.pdb 0.8056\n",
      "7Q05.pdb 0.8936\n",
      "7R09.pdb 0.9426\n",
      "7U5Y.pdb 0.9422\n",
      "7F0A.pdb 0.885\n",
      "7QBG.pdb 0.8832\n",
      "7P0H.pdb 0.5517\n",
      "7ULH.pdb 0.827\n",
      "7VU7.pdb 0.4124\n",
      "7PNO.pdb 0.5722\n",
      "7F2Y.pdb 0.8933\n",
      "7RAW.pdb 0.3376\n",
      "7RPS.pdb 0.8201\n",
      "7ETS.pdb 0.8868\n",
      "7QAO.pdb 0.3219\n",
      "7PC3.pdb 0.8058\n",
      "7PSG.pdb 0.8437\n",
      "7O4O.pdb 0.9646\n",
      "7EQH.pdb 0.8225\n",
      "7SCI.pdb 0.9068\n",
      "7Q4L.pdb 0.6965\n",
      "7MYV.pdb 0.8819\n",
      "7TNI.pdb 0.7011\n",
      "7OPB.pdb 0.9863\n",
      "7T7Y.pdb 0.9769\n",
      "7SO5.pdb 0.9255\n",
      "7W5U.pdb 0.9722\n",
      "7Z79.pdb 0.9316\n",
      "7VGM.pdb 0.9437\n",
      "7ED6.pdb 0.8983\n",
      "7N0E.pdb 0.9855\n",
      "7RQF.pdb 0.6335\n",
      "7TV9.pdb 0.8211\n",
      "7F9H.pdb 0.7484\n",
      "7OA7.pdb 0.596\n",
      "7POI.pdb 0.4347\n",
      "7PB4.pdb 0.8773\n",
      "7KOB.pdb 0.9574\n",
      "7OSW.pdb 0.246\n",
      "7KO9.pdb 0.9412\n",
      "7PC4.pdb 0.7963\n",
      "7MLA.pdb 0.5275\n",
      "7YXG.pdb 0.944\n",
      "7X8V.pdb 0.8576\n",
      "7QAP.pdb 0.3332\n",
      "7TZG.pdb 0.4905\n",
      "7PC7.pdb 0.8064\n",
      "7U2R.pdb 0.9844\n",
      "7MSK.pdb 0.858\n",
      "7V4S.pdb 0.9606\n",
      "7RCZ.pdb 0.8831\n",
      "7QS2.pdb 0.9424\n",
      "7UGH.pdb 0.897\n",
      "7S2R.pdb 0.7594\n",
      "7F3A.pdb 0.9469\n",
      "7N29.pdb 0.8342\n",
      "7VWT.pdb 0.9364\n",
      "7TBU.pdb 0.8291\n",
      "7TZE.pdb 0.8072\n",
      "7OD9.pdb 0.6253\n",
      "7R74.pdb 0.9463\n",
      "7QS5.pdb 0.8982\n",
      "7ER0.pdb 0.2038\n",
      "7VMC.pdb 0.3512\n",
      "7EHG.pdb 0.9532\n",
      "7RI3.pdb 0.3653\n",
      "7QDW.pdb 0.8517\n",
      "7EAD.pdb 0.9736\n",
      "7PRQ.pdb 0.848\n",
      "7NQD.pdb 0.9524\n",
      "7PUJ.pdb 0.8656\n",
      "7WRK.pdb 0.8736\n",
      "7W1F.pdb 0.9196\n",
      "7X9E.pdb 0.6325\n",
      "7W5S.pdb 0.8513\n",
      "7PC6.pdb 0.9031\n",
      "7Z5P.pdb 0.9557\n",
      "7LXK.pdb 0.4867\n",
      "7R63.pdb 0.9027\n",
      "7V8E.pdb 0.9731\n",
      "7M5W.pdb 0.4013\n",
      "7OVP.pdb 0.4915\n",
      "7WWX.pdb 0.9215\n",
      "7ERN.pdb 0.9734\n",
      "7QIL.pdb 0.8764\n",
      "7ESO.pdb 0.3911\n",
      "7FIW.pdb 0.633\n",
      "7TXP.pdb 0.9564\n",
      "7X4E.pdb 0.7891\n",
      "7PC9.pdb 0.8005\n",
      "7NUV.pdb 0.317\n",
      "7YWG.pdb 0.8507\n",
      "7VNX.pdb 0.9389\n",
      "7FJS.pdb 0.5308\n",
      "7O0B.pdb 0.9549\n",
      "7EFS.pdb 0.9175\n",
      "7B0K.pdb 0.8123\n",
      "7RPR.pdb 0.8942\n",
      "7Q4I.pdb 0.8551\n",
      "7QBP.pdb 0.864\n",
      "7X0D.pdb 0.8161\n",
      "7ELF.pdb 0.8847\n",
      "7EJG.pdb 0.9575\n",
      "7EQS.pdb 0.2022\n",
      "7W26.pdb 0.9469\n",
      "7CTX.pdb 0.8211\n",
      "7LXS.pdb 0.8798\n",
      "7ACY.pdb 0.9025\n",
      "7EQB.pdb 0.7821\n",
      "7EBQ.pdb 0.9548\n",
      "7F0O.pdb 0.805\n",
      "7WME.pdb 0.8116\n",
      "7WWR.pdb 0.6614\n",
      "7ERP.pdb 0.9167\n",
      "7WNW.pdb 0.8322\n",
      "7SGN.pdb 0.9046\n",
      "7FEV.pdb 0.9226\n",
      "7V1K.pdb 0.7299\n",
      "7QSS.pdb 0.9408\n",
      "7R5Z.pdb 0.8143\n",
      "7PW1.pdb 0.9791\n",
      "7PXY.pdb 0.6578\n",
      "7T4Z.pdb 0.8188\n",
      "7P3I.pdb 0.9959\n",
      "7EGT.pdb 0.7634\n",
      "7U5F.pdb 0.9053\n",
      "7QDV.pdb 0.8135\n",
      "7VNO.pdb 0.9867\n",
      "7MHW.pdb 0.66\n",
      "7EQE.pdb 0.7325\n",
      "7ED1.pdb 0.9508\n",
      "7RPY.pdb 0.9099\n",
      "7QBZ.pdb 0.5715\n",
      "7QSU.pdb 0.9324\n"
     ]
    }
   ],
   "source": [
    "from TMscore import TMscore\n",
    "\n",
    "tmscore = TMscore(\"TMscore\")\n",
    "\n",
    "tmscore_list = []\n",
    "for a, b in zip(real_pdbs, pred_pdbs):\n",
    "    tmscore(os.path.join(\"real_pdb\", a), os.path.join(\"pred_quant_pdb\", b))\n",
    "    score = tmscore.get_tm_score()\n",
    "    if score is not None:\n",
    "        tmscore_list.append(tmscore.get_tm_score())\n"
   ]
  },
  {
   "cell_type": "code",
   "execution_count": 13,
   "id": "7dad081d-909f-4dd4-a2d0-da050151c58c",
   "metadata": {},
   "outputs": [
    {
     "name": "stdout",
     "output_type": "stream",
     "text": [
      "0.792691366906475\n"
     ]
    }
   ],
   "source": [
    "print(sum(tmscore_list) / len(tmscore_list))"
   ]
  },
  {
   "cell_type": "code",
   "execution_count": null,
   "id": "aeb4e506-de9d-4d4d-85ea-730d61e64807",
   "metadata": {},
   "outputs": [],
   "source": []
  }
 ],
 "metadata": {
  "kernelspec": {
   "display_name": "Python 3 (ipykernel)",
   "language": "python",
   "name": "python3"
  },
  "language_info": {
   "codemirror_mode": {
    "name": "ipython",
    "version": 3
   },
   "file_extension": ".py",
   "mimetype": "text/x-python",
   "name": "python",
   "nbconvert_exporter": "python",
   "pygments_lexer": "ipython3",
   "version": "3.8.15"
  }
 },
 "nbformat": 4,
 "nbformat_minor": 5
}
