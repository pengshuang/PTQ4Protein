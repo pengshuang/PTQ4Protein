{
 "cells": [
  {
   "cell_type": "code",
   "execution_count": 1,
   "id": "c2805b59-c93c-4db2-b96c-7e766db943c4",
   "metadata": {},
   "outputs": [],
   "source": [
    "import torch\n",
    "import torch.nn as nn\n",
    "\n",
    "import numpy as np \n",
    "import matplotlib.pyplot as plt\n",
    "\n",
    "from Bio import SeqIO\n",
    "from Bio.Seq import Seq\n",
    "from Bio.SeqRecord import SeqRecord\n",
    "from Bio.Alphabet import SingleLetterAlphabet\n",
    "\n",
    "from transformers import AutoTokenizer, AutoModel, EsmForProteinFolding\n",
    "\n",
    "import os\n",
    "import copy\n",
    "from tqdm import tqdm\n",
    "\n",
    "from linear_quant import *"
   ]
  },
  {
   "cell_type": "code",
   "execution_count": 2,
   "id": "f395f2a7-4495-4779-9de3-d6f3a2c2fd7d",
   "metadata": {},
   "outputs": [
    {
     "name": "stderr",
     "output_type": "stream",
     "text": [
      "Some weights of EsmForProteinFolding were not initialized from the model checkpoint at facebook/esmfold_v1 and are newly initialized: ['esm.contact_head.regression.weight', 'esm.contact_head.regression.bias']\n",
      "You should probably TRAIN this model on a down-stream task to be able to use it for predictions and inference.\n"
     ]
    }
   ],
   "source": [
    "tokenizer = AutoTokenizer.from_pretrained(\"facebook/esmfold_v1\")\n",
    "model = EsmForProteinFolding.from_pretrained(\"facebook/esmfold_v1\", low_cpu_mem_usage=False)\n",
    "\n",
    "model = model.cuda('cuda:3')\n",
    "model.esm = model.esm.float()"
   ]
  },
  {
   "cell_type": "code",
   "execution_count": 3,
   "id": "8a717cf1-a3a1-41af-8c6c-84d549f16abd",
   "metadata": {},
   "outputs": [
    {
     "name": "stdout",
     "output_type": "stream",
     "text": [
      "3527665475\n"
     ]
    }
   ],
   "source": [
    "num_params = sum(param.numel() for param in model.parameters())\n",
    "print(num_params)"
   ]
  },
  {
   "cell_type": "code",
   "execution_count": 4,
   "id": "8749ba1f-0266-4a4e-a999-32b7e6460706",
   "metadata": {},
   "outputs": [
    {
     "name": "stdout",
     "output_type": "stream",
     "text": [
      "2838748102\n",
      "0.8047104470946906\n"
     ]
    }
   ],
   "source": [
    "num_params = 0\n",
    "\n",
    "for name, parameters in model.named_parameters():\n",
    "    if name.startswith(\"esm\"):\n",
    "        num_params += parameters.numel()\n",
    "        # print(name,':',parameters.numel())\n",
    "\n",
    "print(num_params)\n",
    "print(num_params / 3527664034)"
   ]
  },
  {
   "cell_type": "code",
   "execution_count": 5,
   "id": "6c950c34-6f6f-4d4e-94f2-85c759815705",
   "metadata": {},
   "outputs": [
    {
     "name": "stdout",
     "output_type": "stream",
     "text": [
      "688548524\n",
      "0.19518540239764795\n"
     ]
    }
   ],
   "source": [
    "num_params = 0\n",
    "\n",
    "for name, parameters in model.named_parameters():\n",
    "    if name.startswith(\"trunk\"):\n",
    "        num_params += parameters.numel()\n",
    "        # print(name,':',parameters.numel())\n",
    "\n",
    "print(num_params)\n",
    "print(num_params / 3527664034)"
   ]
  },
  {
   "cell_type": "code",
   "execution_count": 6,
   "id": "f896fb2d-6366-44eb-97bf-6c67c650dc81",
   "metadata": {},
   "outputs": [
    {
     "name": "stdout",
     "output_type": "stream",
     "text": [
      "2019116\n",
      "0.0005723662969431176\n"
     ]
    }
   ],
   "source": [
    "num_params = 0\n",
    "\n",
    "for name, parameters in model.named_parameters():\n",
    "    if name.startswith(\"trunk.structure_module\"):\n",
    "        num_params += parameters.numel()\n",
    "        # print(name,':',parameters.numel())\n",
    "\n",
    "print(num_params)\n",
    "print(num_params / 3527664034)"
   ]
  },
  {
   "cell_type": "code",
   "execution_count": 7,
   "id": "c46d1267-205e-4bf7-9036-4cc5a5b0a374",
   "metadata": {},
   "outputs": [],
   "source": [
    "quant_layers = []\n",
    "\n",
    "for key in model.state_dict().keys():\n",
    "    key_size = model.state_dict()[key].size()\n",
    "    # if key.startswith(\"esm.encoder.layer\") or key.startswith(\"trunk.block\") or key.startswith(\"trunk.structure_module\"):\n",
    "    if key.startswith(\"esm.encoder.\") or key.startswith(\"trunk.block\"):\n",
    "    # if key.startswith(\"esm.encoder.\"):\n",
    "    # if key.startswith(\"trunk.block\"):\n",
    "    # if key.startswith(\"trunk.block\") or key.startswith(\"trunk.structure_module\"):\n",
    "        quant_layers.append(key)"
   ]
  },
  {
   "cell_type": "code",
   "execution_count": 8,
   "id": "792ba710-f90e-49e0-b8bb-7085c6cd3e01",
   "metadata": {},
   "outputs": [
    {
     "name": "stdout",
     "output_type": "stream",
     "text": [
      "\n",
      "total quant RMSE: 9.4016e-04\n"
     ]
    }
   ],
   "source": [
    "# checkpoint, rmse = quant_checkpoint(model, quant_layers, wei_quant_scheme=\"pw-1\")\n",
    "checkpoint, rmse = quant_checkpoint(model, quant_layers)\n",
    "model.load_state_dict(checkpoint)\n",
    "del checkpoint"
   ]
  },
  {
   "cell_type": "code",
   "execution_count": 9,
   "id": "2be28537-6626-40a4-aabc-e0d1cb65e52e",
   "metadata": {},
   "outputs": [
    {
     "data": {
      "text/plain": [
       "0.0009401647041497145"
      ]
     },
     "execution_count": 9,
     "metadata": {},
     "output_type": "execute_result"
    }
   ],
   "source": [
    "rmse\n",
    "# 0.015075289140647612"
   ]
  },
  {
   "cell_type": "code",
   "execution_count": 10,
   "id": "5aee4f85-d1b4-43f0-b31a-3d34bd2999bd",
   "metadata": {},
   "outputs": [
    {
     "name": "stderr",
     "output_type": "stream",
     "text": [
      "100%|██████████| 139/139 [13:27<00:00,  5.81s/it]\n"
     ]
    }
   ],
   "source": [
    "seq_fasta = list(SeqIO.parse(\"../data/sequences_cameo.fasta\", \"fasta\"))\n",
    "\n",
    "seq_list = [seq.seq.__str__() for seq in seq_fasta]\n",
    "key_list = [seq.id.__str__().split(\"_\")[0] for seq in seq_fasta]\n",
    "\n",
    "tokenizer = AutoTokenizer.from_pretrained(\"facebook/esmfold_v1\")\n",
    "ecoli_tokenized = tokenizer(seq_list, padding=False, add_special_tokens=False)['input_ids']\n",
    "\n",
    "outputs = []\n",
    "\n",
    "with torch.no_grad():\n",
    "    for input_ids in tqdm(ecoli_tokenized):\n",
    "        input_ids = torch.tensor(input_ids, device='cuda:3').unsqueeze(0)\n",
    "        output = model(input_ids)\n",
    "        outputs.append({key: val.cpu() for key, val in output.items()})\n",
    "        \n",
    "pdb_list = [convert_outputs_to_pdb(output) for output in outputs]\n",
    "for identifier, pdb in zip(key_list, pdb_list):\n",
    "    with open(f\"../output/pred_quant_weight_pdb_v1/{identifier}.pdb\", \"w\") as f:\n",
    "        f.write(\"\".join(pdb))"
   ]
  },
  {
   "cell_type": "code",
   "execution_count": 11,
   "id": "7dbaf9a9-bf64-4b5c-be0e-a9515e6bab2d",
   "metadata": {},
   "outputs": [
    {
     "name": "stderr",
     "output_type": "stream",
     "text": [
      "139it [01:30,  1.54it/s]"
     ]
    },
    {
     "name": "stdout",
     "output_type": "stream",
     "text": [
      "0.8010496402877697\n"
     ]
    },
    {
     "name": "stderr",
     "output_type": "stream",
     "text": [
      "\n"
     ]
    }
   ],
   "source": [
    "import os\n",
    "from tqdm import tqdm\n",
    "from TMscore import TMscore\n",
    "\n",
    "real_pdbs = os.listdir(\"../data/cameo_real_pdb\")\n",
    "pred_quant_pdbs = os.listdir(\"../output/pred_quant_weight_pdb_v1\")\n",
    "\n",
    "tmscore = TMscore(\"TMscore\")\n",
    "\n",
    "tmscore_list = []\n",
    "lddt_list = []\n",
    "for a, b in tqdm(zip(real_pdbs, pred_quant_pdbs)):\n",
    "    tmscore(os.path.join(\"../data/cameo_real_pdb\", a), os.path.join(\"../output/pred_quant_weight_pdb_v1\", b))\n",
    "    score = tmscore.get_tm_score()\n",
    "    if score is not None:\n",
    "        tmscore_list.append(tmscore.get_tm_score())\n",
    "\n",
    "tmscore_pred = sum(tmscore_list) / len(tmscore_list)       \n",
    "\n",
    "print(tmscore_pred)"
   ]
  },
  {
   "cell_type": "code",
   "execution_count": 12,
   "id": "c143adc0-7486-4441-a6a9-937eb3b81e4f",
   "metadata": {},
   "outputs": [],
   "source": [
    "# 0.8006791366906474"
   ]
  },
  {
   "cell_type": "code",
   "execution_count": null,
   "id": "626f2e39-c2a3-44fe-b22d-7a8dbed570ad",
   "metadata": {},
   "outputs": [],
   "source": []
  }
 ],
 "metadata": {
  "kernelspec": {
   "display_name": "Python 3 (ipykernel)",
   "language": "python",
   "name": "python3"
  },
  "language_info": {
   "codemirror_mode": {
    "name": "ipython",
    "version": 3
   },
   "file_extension": ".py",
   "mimetype": "text/x-python",
   "name": "python",
   "nbconvert_exporter": "python",
   "pygments_lexer": "ipython3",
   "version": "3.8.15"
  }
 },
 "nbformat": 4,
 "nbformat_minor": 5
}
